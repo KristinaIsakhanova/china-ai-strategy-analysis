# ---
# Заголовок: Анализ развития ИИ в Китае (2018–2023)
# Автор: Кристина Исаханова
# Описание: Пет-проект для GitHub — анализ патентов, инвестиций и госполитики
# ---

import pandas as pd
import matplotlib.pyplot as plt
import seaborn as sns

# Настройка стиля
plt.style.use('seaborn-v0_8')
sns.set_palette("husl")

# --- Шаг 1: Загрузка данных ---
patents = pd.read_csv("../data/ai_patents_wipo.csv")
investments = pd.read_csv("../data/investments_itjuzi.csv")

# --- Шаг 2: График — рост патентов ---
china_patents = patents[patents['country'] == 'China']
us_patents = patents[patents['country'] == 'USA']

plt.figure(figsize=(10, 6))
plt.plot(china_patents['year'], china_patents['ai_patents_count'], 'o-', label='Китай', linewidth=2.5)
plt.plot(us_patents['year'], us_patents['ai_patents_count'], 's--', label='США', linewidth=2)
plt.title('Рост числа патентов на ИИ: Китай vs США (2018–2023)', fontsize=14)
plt.ylabel('Количество патентов')
plt.xlabel('Год')
plt.legend()
plt.grid(True, alpha=0.3)
plt.tight_layout()
plt.savefig("../results/ai_patents_trend.png", dpi=300)
plt.show()

# --- Шаг 3: График — сравнение инвестиций ---
plt.figure(figsize=(10, 6))
plt.plot(investments['year'], investments['china_ai_investment_bln_usd'], 'o-', label='Китай')
plt.plot(investments['year'], investments['us_ai_investment_bln_usd'], 's--', label='США')
plt.title('Инвестиции в ИИ: Китай vs США (2018–2023)', fontsize=14)
plt.ylabel('Инвестиции, млрд $')
plt.xlabel('Год')
plt.legend()
plt.grid(True, alpha=0.3)
plt.tight_layout()
plt.savefig("../results/investment_comparison.png", dpi=300)
plt.show()

# --- Шаг 4: Выводы ---
print("=== Ключевые выводы ===")
print(f"• В 2023 году Китай подал {china_patents.iloc[-1]['ai_patents_count']} патентов на ИИ — больше, чем США ({us_patents.iloc[-1]['ai_patents_count']})")
print(f"• Пик инвестиций в Китае пришёлся на 2022 год ({investments['china_ai_investment_bln_usd'].max()} млрд $)")
print(f"• Несмотря на рост патентов, объём инвестиций в Китае ниже, чем в США")
